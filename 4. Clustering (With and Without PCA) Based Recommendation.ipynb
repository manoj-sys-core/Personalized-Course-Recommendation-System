{
 "cells": [
  {
   "cell_type": "markdown",
   "id": "d523b71e",
   "metadata": {},
   "source": [
    "### **Clustering based Course Recommender System**\n"
   ]
  },
  {
   "cell_type": "code",
   "execution_count": 1,
   "id": "a71f5bf4",
   "metadata": {},
   "outputs": [],
   "source": [
    "import seaborn as sns\n",
    "import pandas as pd\n",
    "import numpy as np\n",
    "import matplotlib.pyplot as plt\n",
    "import sklearn\n",
    "\n",
    "%matplotlib inline"
   ]
  },
  {
   "cell_type": "markdown",
   "id": "880a1e78",
   "metadata": {},
   "source": [
    "#### **Performing K-means clustering algorithm on the user profile feature vectors**"
   ]
  },
  {
   "cell_type": "code",
   "execution_count": 2,
   "id": "88196c53",
   "metadata": {},
   "outputs": [],
   "source": [
    "from sklearn.cluster import KMeans\n",
    "import matplotlib.pyplot as plt"
   ]
  },
  {
   "cell_type": "code",
   "execution_count": 3,
   "id": "f960c645",
   "metadata": {},
   "outputs": [],
   "source": [
    "def load_course_genres():\n",
    "    return pd.read_csv('course_genre.csv')\n",
    "\n",
    "def load_ratings():\n",
    "    return pd.read_csv('ratings.csv')"
   ]
  },
  {
   "cell_type": "code",
   "execution_count": 4,
   "id": "d82773fe",
   "metadata": {},
   "outputs": [],
   "source": [
    "def kMeans_data_prep():\n",
    "\n",
    "    rating_df = load_ratings()\n",
    "    course_genres_df = load_course_genres()\n",
    "    course_genres_matrix = course_genres_df.iloc[:,2:].to_numpy()\n",
    "\n",
    "    profile_df = pd.DataFrame(columns = ['User_ID'] + list(course_genres_df.columns[2:]))\n",
    "\n",
    "    for user_id in rating_df['user'].sort_values().unique():\n",
    "        user = np.array(\n",
    "                    pd.merge(course_genres_df, rating_df[rating_df['user'] == user_id], left_on = 'COURSE_ID', right_on = 'item', how= 'left')['rating'].fillna(0.0)    \n",
    "                ).reshape(1, -1)\n",
    "\n",
    "        user_profile = pd.DataFrame(\n",
    "            np.matmul(user, course_genres_matrix),\n",
    "            columns=course_genres_df.columns[2:]\n",
    "        )\n",
    "\n",
    "        user_profile['User_ID'] = user_id  \n",
    "        profile_df = pd.concat([profile_df, user_profile], ignore_index=True)\n",
    "\n",
    "    feature_names = list(profile_df.columns[1:])\n",
    "    scaler = sklearn.preprocessing.StandardScaler()\n",
    "    profile_df[feature_names] = scaler.fit_transform(profile_df[feature_names])\n",
    "\n",
    "    user_features_df = profile_df.loc[:, profile_df.columns != 'User_ID']\n",
    "    user_ids2_idx = profile_df.loc[:, profile_df.columns == 'User_ID']\n",
    "\n",
    "    return user_ids2_idx, user_features_df"
   ]
  },
  {
   "cell_type": "code",
   "execution_count": 5,
   "metadata": {},
   "outputs": [
    {
     "name": "stderr",
     "output_type": "stream",
     "text": [
      "C:\\Users\\Manoj\\AppData\\Local\\Temp\\ipykernel_15076\\2707378856.py:20: FutureWarning: The behavior of DataFrame concatenation with empty or all-NA entries is deprecated. In a future version, this will no longer exclude empty or all-NA columns when determining the result dtypes. To retain the old behavior, exclude the relevant entries before the concat operation.\n",
      "  profile_df = pd.concat([profile_df, user_profile], ignore_index=True)\n"
     ]
    },
    {
     "data": {
      "text/html": [
       "<div>\n",
       "<style scoped>\n",
       "    .dataframe tbody tr th:only-of-type {\n",
       "        vertical-align: middle;\n",
       "    }\n",
       "\n",
       "    .dataframe tbody tr th {\n",
       "        vertical-align: top;\n",
       "    }\n",
       "\n",
       "    .dataframe thead th {\n",
       "        text-align: right;\n",
       "    }\n",
       "</style>\n",
       "<table border=\"1\" class=\"dataframe\">\n",
       "  <thead>\n",
       "    <tr style=\"text-align: right;\">\n",
       "      <th></th>\n",
       "      <th>Database</th>\n",
       "      <th>Python</th>\n",
       "      <th>CloudComputing</th>\n",
       "      <th>DataAnalysis</th>\n",
       "      <th>Containers</th>\n",
       "      <th>MachineLearning</th>\n",
       "      <th>ComputerVision</th>\n",
       "      <th>DataScience</th>\n",
       "      <th>BigData</th>\n",
       "      <th>Chatbot</th>\n",
       "      <th>R</th>\n",
       "      <th>BackendDev</th>\n",
       "      <th>FrontendDev</th>\n",
       "      <th>Blockchain</th>\n",
       "    </tr>\n",
       "  </thead>\n",
       "  <tbody>\n",
       "    <tr>\n",
       "      <th>0</th>\n",
       "      <td>6.106474</td>\n",
       "      <td>2.485388</td>\n",
       "      <td>0.961242</td>\n",
       "      <td>8.272010</td>\n",
       "      <td>0.850889</td>\n",
       "      <td>6.477594</td>\n",
       "      <td>-0.024296</td>\n",
       "      <td>4.571668</td>\n",
       "      <td>5.023412</td>\n",
       "      <td>1.456642</td>\n",
       "      <td>7.249771</td>\n",
       "      <td>7.360899</td>\n",
       "      <td>6.369323</td>\n",
       "      <td>2.570116</td>\n",
       "    </tr>\n",
       "    <tr>\n",
       "      <th>1</th>\n",
       "      <td>4.529980</td>\n",
       "      <td>-0.353377</td>\n",
       "      <td>0.440653</td>\n",
       "      <td>5.120792</td>\n",
       "      <td>-0.424767</td>\n",
       "      <td>2.368540</td>\n",
       "      <td>-0.024296</td>\n",
       "      <td>2.851031</td>\n",
       "      <td>2.667576</td>\n",
       "      <td>-0.438787</td>\n",
       "      <td>2.127032</td>\n",
       "      <td>0.865416</td>\n",
       "      <td>-0.231621</td>\n",
       "      <td>0.519419</td>\n",
       "    </tr>\n",
       "    <tr>\n",
       "      <th>2</th>\n",
       "      <td>2.427988</td>\n",
       "      <td>1.066006</td>\n",
       "      <td>4.084776</td>\n",
       "      <td>4.280467</td>\n",
       "      <td>-0.424767</td>\n",
       "      <td>5.828796</td>\n",
       "      <td>-0.024296</td>\n",
       "      <td>3.233395</td>\n",
       "      <td>1.281790</td>\n",
       "      <td>1.456642</td>\n",
       "      <td>5.542191</td>\n",
       "      <td>5.505047</td>\n",
       "      <td>2.702132</td>\n",
       "      <td>2.570116</td>\n",
       "    </tr>\n",
       "    <tr>\n",
       "      <th>3</th>\n",
       "      <td>-0.462250</td>\n",
       "      <td>-0.826504</td>\n",
       "      <td>-0.600526</td>\n",
       "      <td>-0.341319</td>\n",
       "      <td>-0.424767</td>\n",
       "      <td>-0.659184</td>\n",
       "      <td>-0.024296</td>\n",
       "      <td>-0.972608</td>\n",
       "      <td>-0.381153</td>\n",
       "      <td>-0.438787</td>\n",
       "      <td>-0.434337</td>\n",
       "      <td>-0.526473</td>\n",
       "      <td>-0.231621</td>\n",
       "      <td>-0.505930</td>\n",
       "    </tr>\n",
       "    <tr>\n",
       "      <th>4</th>\n",
       "      <td>0.063248</td>\n",
       "      <td>-0.826504</td>\n",
       "      <td>-0.600526</td>\n",
       "      <td>0.078843</td>\n",
       "      <td>-0.424767</td>\n",
       "      <td>-0.659184</td>\n",
       "      <td>-0.024296</td>\n",
       "      <td>-0.972608</td>\n",
       "      <td>0.173161</td>\n",
       "      <td>-0.438787</td>\n",
       "      <td>0.419453</td>\n",
       "      <td>-0.526473</td>\n",
       "      <td>-0.231621</td>\n",
       "      <td>-0.505930</td>\n",
       "    </tr>\n",
       "  </tbody>\n",
       "</table>\n",
       "</div>"
      ],
      "text/plain": [
       "   Database    Python  CloudComputing  DataAnalysis  Containers  \\\n",
       "0  6.106474  2.485388        0.961242      8.272010    0.850889   \n",
       "1  4.529980 -0.353377        0.440653      5.120792   -0.424767   \n",
       "2  2.427988  1.066006        4.084776      4.280467   -0.424767   \n",
       "3 -0.462250 -0.826504       -0.600526     -0.341319   -0.424767   \n",
       "4  0.063248 -0.826504       -0.600526      0.078843   -0.424767   \n",
       "\n",
       "   MachineLearning  ComputerVision  DataScience   BigData   Chatbot         R  \\\n",
       "0         6.477594       -0.024296     4.571668  5.023412  1.456642  7.249771   \n",
       "1         2.368540       -0.024296     2.851031  2.667576 -0.438787  2.127032   \n",
       "2         5.828796       -0.024296     3.233395  1.281790  1.456642  5.542191   \n",
       "3        -0.659184       -0.024296    -0.972608 -0.381153 -0.438787 -0.434337   \n",
       "4        -0.659184       -0.024296    -0.972608  0.173161 -0.438787  0.419453   \n",
       "\n",
       "   BackendDev  FrontendDev  Blockchain  \n",
       "0    7.360899     6.369323    2.570116  \n",
       "1    0.865416    -0.231621    0.519419  \n",
       "2    5.505047     2.702132    2.570116  \n",
       "3   -0.526473    -0.231621   -0.505930  \n",
       "4   -0.526473    -0.231621   -0.505930  "
      ]
     },
     "execution_count": 5,
     "metadata": {},
     "output_type": "execute_result"
    }
   ],
   "source": [
    "user_ids2_idx, user_features_df = kMeans_data_prep()\n",
    "user_features_df.head()"
   ]
  },
  {
   "cell_type": "code",
   "execution_count": 6,
   "id": "8ee599c3",
   "metadata": {},
   "outputs": [
    {
     "data": {
      "image/png": "[encoded data removed]",
      "text/plain": [
       "<Figure size 1500x500 with 1 Axes>"
      ]
     },
     "metadata": {},
     "output_type": "display_data"
    }
   ],
   "source": [
    "# Finding an optimized number of neighors k from a candidate list such as list_k = list(range(1, 30))\n",
    "distorsions = []\n",
    "\n",
    "for k in range(1, 30):\n",
    "    kmeans = sklearn.cluster.KMeans(n_clusters=k)\n",
    "    kmeans.fit(user_features_df)\n",
    "    distorsions.append(kmeans.inertia_)\n",
    "\n",
    "fig = plt.figure(figsize=(15, 5))\n",
    "plt.plot(range(1, 30), distorsions, label='Distortion')\n",
    "plt.scatter(range(1, 30), distorsions, color='red', s=30, zorder=5, label='Points')\n",
    "plt.grid(True)\n",
    "plt.title('Elbow Curve')\n",
    "plt.xlabel('Number of Clusters')\n",
    "plt.ylabel('Distortion')\n",
    "plt.show()"
   ]
  },
  {
   "cell_type": "code",
   "execution_count": 7,
   "id": "ea93bef5",
   "metadata": {},
   "outputs": [],
   "source": [
    "def kMeans_train(user_ids2_idx, user_features_df, n_clusters):\n",
    "    \n",
    "    kmeans = KMeans(n_clusters=n_clusters)\n",
    "    kmeans.fit(user_features_df)\n",
    "\n",
    "    user_cluster_label = kmeans.labels_\n",
    "    user_cluster_label_df = pd.DataFrame(user_cluster_label)\n",
    "    user_cluster_label_df = pd.merge(user_ids2_idx, user_cluster_label_df, left_index=True, right_index=True)\n",
    "    user_cluster_label_df.columns = ['user', 'cluster']\n",
    "    \n",
    "    return user_cluster_label_df"
   ]
  },
  {
   "cell_type": "code",
   "execution_count": 8,
   "id": "0045ade2",
   "metadata": {},
   "outputs": [
    {
     "data": {
      "text/html": [
       "<div>\n",
       "<style scoped>\n",
       "    .dataframe tbody tr th:only-of-type {\n",
       "        vertical-align: middle;\n",
       "    }\n",
       "\n",
       "    .dataframe tbody tr th {\n",
       "        vertical-align: top;\n",
       "    }\n",
       "\n",
       "    .dataframe thead th {\n",
       "        text-align: right;\n",
       "    }\n",
       "</style>\n",
       "<table border=\"1\" class=\"dataframe\">\n",
       "  <thead>\n",
       "    <tr style=\"text-align: right;\">\n",
       "      <th></th>\n",
       "      <th>user</th>\n",
       "      <th>cluster</th>\n",
       "    </tr>\n",
       "  </thead>\n",
       "  <tbody>\n",
       "    <tr>\n",
       "      <th>0</th>\n",
       "      <td>2</td>\n",
       "      <td>6</td>\n",
       "    </tr>\n",
       "    <tr>\n",
       "      <th>1</th>\n",
       "      <td>4</td>\n",
       "      <td>6</td>\n",
       "    </tr>\n",
       "    <tr>\n",
       "      <th>2</th>\n",
       "      <td>5</td>\n",
       "      <td>22</td>\n",
       "    </tr>\n",
       "    <tr>\n",
       "      <th>3</th>\n",
       "      <td>7</td>\n",
       "      <td>1</td>\n",
       "    </tr>\n",
       "    <tr>\n",
       "      <th>4</th>\n",
       "      <td>8</td>\n",
       "      <td>1</td>\n",
       "    </tr>\n",
       "  </tbody>\n",
       "</table>\n",
       "</div>"
      ],
      "text/plain": [
       "  user  cluster\n",
       "0    2        6\n",
       "1    4        6\n",
       "2    5       22\n",
       "3    7        1\n",
       "4    8        1"
      ]
     },
     "execution_count": 8,
     "metadata": {},
     "output_type": "execute_result"
    }
   ],
   "source": [
    "user_cluster_label_df = kMeans_train(user_ids2_idx, user_features_df, 25)\n",
    "user_cluster_label_df.head()"
   ]
  },
  {
   "cell_type": "code",
   "execution_count": 9,
   "id": "8ba63f07",
   "metadata": {},
   "outputs": [],
   "source": [
    "def kMeans_pred(user_cluster_labels, user_id):\n",
    "\n",
    "    rating_df = load_ratings()\n",
    "\n",
    "    user_cluster = user_cluster_labels[user_cluster_labels['user'] == user_id]['cluster'].values[0]\n",
    "    similar_users = user_cluster_labels[(user_cluster_labels['cluster'] == user_cluster) & (user_cluster_labels['user'] != user_id)]\n",
    "    sim_course_df = pd.merge(similar_users, rating_df, on = 'user')[['item', 'rating']]\n",
    "    sim_course_df['count'] = [1] * len(sim_course_df)\n",
    "    sim_course_df = (sim_course_df.groupby(['item'])\n",
    "                        .agg(enrollments = ('count', 'sum'))\n",
    "                        .sort_values(by='enrollments', ascending=False)\n",
    "                        .reset_index()\n",
    "                        )\n",
    "\n",
    "    enrolled_courses = rating_df[rating_df['user'] == user_id]['item'].values\n",
    "    sim_course_df = sim_course_df[~sim_course_df['item'].isin(enrolled_courses)]\n",
    "    sim_course_df['enrollments'] = (sim_course_df['enrollments'] / sim_course_df['enrollments'].max()) * 100\n",
    "    return sim_course_df"
   ]
  },
  {
   "cell_type": "code",
   "execution_count": 10,
   "id": "19d9b93d",
   "metadata": {},
   "outputs": [
    {
     "data": {
      "text/html": [
       "<div>\n",
       "<style scoped>\n",
       "    .dataframe tbody tr th:only-of-type {\n",
       "        vertical-align: middle;\n",
       "    }\n",
       "\n",
       "    .dataframe tbody tr th {\n",
       "        vertical-align: top;\n",
       "    }\n",
       "\n",
       "    .dataframe thead th {\n",
       "        text-align: right;\n",
       "    }\n",
       "</style>\n",
       "<table border=\"1\" class=\"dataframe\">\n",
       "  <thead>\n",
       "    <tr style=\"text-align: right;\">\n",
       "      <th></th>\n",
       "      <th>item</th>\n",
       "      <th>enrollments</th>\n",
       "    </tr>\n",
       "  </thead>\n",
       "  <tbody>\n",
       "    <tr>\n",
       "      <th>3</th>\n",
       "      <td>DS0101EN</td>\n",
       "      <td>100.000000</td>\n",
       "    </tr>\n",
       "    <tr>\n",
       "      <th>6</th>\n",
       "      <td>BD0115EN</td>\n",
       "      <td>97.087379</td>\n",
       "    </tr>\n",
       "    <tr>\n",
       "      <th>7</th>\n",
       "      <td>DS0105EN</td>\n",
       "      <td>96.116505</td>\n",
       "    </tr>\n",
       "    <tr>\n",
       "      <th>30</th>\n",
       "      <td>ML0151EN</td>\n",
       "      <td>62.621359</td>\n",
       "    </tr>\n",
       "    <tr>\n",
       "      <th>31</th>\n",
       "      <td>DB0151EN</td>\n",
       "      <td>60.679612</td>\n",
       "    </tr>\n",
       "    <tr>\n",
       "      <th>32</th>\n",
       "      <td>ML0101ENv3</td>\n",
       "      <td>58.252427</td>\n",
       "    </tr>\n",
       "    <tr>\n",
       "      <th>42</th>\n",
       "      <td>ML0111EN</td>\n",
       "      <td>42.718447</td>\n",
       "    </tr>\n",
       "    <tr>\n",
       "      <th>50</th>\n",
       "      <td>TA0105EN</td>\n",
       "      <td>28.155340</td>\n",
       "    </tr>\n",
       "    <tr>\n",
       "      <th>52</th>\n",
       "      <td>CC0101EN</td>\n",
       "      <td>26.213592</td>\n",
       "    </tr>\n",
       "    <tr>\n",
       "      <th>55</th>\n",
       "      <td>DW0101EN</td>\n",
       "      <td>25.728155</td>\n",
       "    </tr>\n",
       "  </tbody>\n",
       "</table>\n",
       "</div>"
      ],
      "text/plain": [
       "          item  enrollments\n",
       "3     DS0101EN   100.000000\n",
       "6     BD0115EN    97.087379\n",
       "7     DS0105EN    96.116505\n",
       "30    ML0151EN    62.621359\n",
       "31    DB0151EN    60.679612\n",
       "32  ML0101ENv3    58.252427\n",
       "42    ML0111EN    42.718447\n",
       "50    TA0105EN    28.155340\n",
       "52    CC0101EN    26.213592\n",
       "55    DW0101EN    25.728155"
      ]
     },
     "execution_count": 10,
     "metadata": {},
     "output_type": "execute_result"
    }
   ],
   "source": [
    "kMeans_pred(user_cluster_label_df, 2).head(10)"
   ]
  },
  {
   "cell_type": "markdown",
   "id": "a3cc39fa",
   "metadata": {},
   "source": [
    "#### **Applying PCA on user profile feature vectors to reduce dimensions**\n"
   ]
  },
  {
   "cell_type": "code",
   "execution_count": 11,
   "id": "01cb4aeb",
   "metadata": {},
   "outputs": [
    {
     "name": "stdout",
     "output_type": "stream",
     "text": [
      "There are 14 features for each user profile.\n"
     ]
    }
   ],
   "source": [
    "feature_names = list(user_features_df.columns)\n",
    "print(f\"There are {len(feature_names)} features for each user profile.\")"
   ]
  },
  {
   "cell_type": "code",
   "execution_count": 12,
   "id": "27d617e1",
   "metadata": {},
   "outputs": [
    {
     "data": {
      "image/png": "[encoded data removed]",
      "text/plain": [
       "<Figure size 1100x900 with 2 Axes>"
      ]
     },
     "metadata": {},
     "output_type": "display_data"
    }
   ],
   "source": [
    "sns.set_theme(style=\"white\")\n",
    "corr = user_features_df.cov()\n",
    "mask = np.triu(np.ones_like(corr, dtype=bool))\n",
    "f, ax = plt.subplots(figsize=(11, 9))\n",
    "cmap = sns.diverging_palette(230, 20, as_cmap=True)\n",
    "\n",
    "sns.heatmap(corr, mask=mask, cmap=cmap, vmax=.3, center=0,\n",
    "            square=True, linewidths=.5, cbar_kws={\"shrink\": .5})\n",
    "plt.show()"
   ]
  },
  {
   "cell_type": "markdown",
   "id": "1ec02b22",
   "metadata": {},
   "source": [
    "For example, the feature `MachineLearning` and the feature `DataScience` are correlated. Such covariances among features may indicate that we can apply PCA to find its main components (eigenvectors with max eigenvalues on the covariance matrix).\n",
    "\n"
   ]
  },
  {
   "cell_type": "code",
   "execution_count": 13,
   "id": "eaf1eafc",
   "metadata": {},
   "outputs": [
    {
     "name": "stdout",
     "output_type": "stream",
     "text": [
      "For 1 n_components the explained variance is : 0.2875684338769967\n",
      "For 2 n_components the explained variance is : 0.4630925644817449\n",
      "For 3 n_components the explained variance is : 0.5761339643675616\n",
      "For 4 n_components the explained variance is : 0.6487465627832343\n",
      "For 5 n_components the explained variance is : 0.7194878762997212\n",
      "For 6 n_components the explained variance is : 0.7882103410314037\n",
      "For 7 n_components the explained variance is : 0.8429558465572831\n",
      "For 8 n_components the explained variance is : 0.8944445500368897\n",
      "For 9 n_components the explained variance is : 0.9272695591307679\n",
      "For 10 n_components the explained variance is : 0.9544658170614699\n",
      "For 11 n_components the explained variance is : 0.973357210316477\n",
      "For 12 n_components the explained variance is : 0.9870310843021103\n",
      "For 13 n_components the explained variance is : 0.997916316661769\n",
      "For 14 n_components the explained variance is : 0.9999999999999999\n"
     ]
    }
   ],
   "source": [
    "# Finding the optimal value of n_components\n",
    "accVarRatio = []\n",
    "\n",
    "for n_components in range(1, 15):\n",
    "    pca = sklearn.decomposition.PCA(n_components=n_components)\n",
    "    pca.fit(user_features_df)\n",
    "\n",
    "    print('For',n_components,'n_components the explained variance is :',pca.explained_variance_ratio_.sum())\n",
    "\n",
    "    accVarRatio.append(pca.explained_variance_ratio_.sum())"
   ]
  },
  {
   "cell_type": "code",
   "execution_count": 14,
   "id": "8a61dd87",
   "metadata": {},
   "outputs": [
    {
     "data": {
      "text/plain": [
       "<Axes: xlabel='n_component', ylabel='accumulated variance ratio'>"
      ]
     },
     "execution_count": 14,
     "metadata": {},
     "output_type": "execute_result"
    },
    {
     "data": {
      "image/png": "[encoded data removed]",
      "text/plain": [
       "<Figure size 640x480 with 1 Axes>"
      ]
     },
     "metadata": {},
     "output_type": "display_data"
    }
   ],
   "source": [
    "plot_df = pd.DataFrame({'n_component': range(1, 15), 'accumulated variance ratio': accVarRatio})\n",
    "sns.barplot(x='n_component', y='accumulated variance ratio', data=plot_df)"
   ]
  },
  {
   "cell_type": "code",
   "execution_count": 15,
   "id": "88e69819",
   "metadata": {},
   "outputs": [],
   "source": [
    "def do_PCA(user_features_df, expected_variance = 90):\n",
    "\n",
    "    expected_variance = expected_variance / 100\n",
    "    n_com = 0\n",
    "\n",
    "    for n_components in range(1, user_features_df.shape[1]):\n",
    "        n_com = n_components\n",
    "        pca = sklearn.decomposition.PCA(n_components=n_components)\n",
    "        transformed_matrix = pca.fit_transform(user_features_df)\n",
    "        if (sum(pca.explained_variance_ratio_) >= expected_variance): break\n",
    "\n",
    "    transformed_df = pd.DataFrame(transformed_matrix)\n",
    "    transformed_df.columns = [f\"PC_{i}\" for i in range(n_com)]\n",
    "\n",
    "    return transformed_df"
   ]
  },
  {
   "cell_type": "code",
   "execution_count": 16,
   "id": "90d8625d",
   "metadata": {},
   "outputs": [
    {
     "data": {
      "text/html": [
       "<div>\n",
       "<style scoped>\n",
       "    .dataframe tbody tr th:only-of-type {\n",
       "        vertical-align: middle;\n",
       "    }\n",
       "\n",
       "    .dataframe tbody tr th {\n",
       "        vertical-align: top;\n",
       "    }\n",
       "\n",
       "    .dataframe thead th {\n",
       "        text-align: right;\n",
       "    }\n",
       "</style>\n",
       "<table border=\"1\" class=\"dataframe\">\n",
       "  <thead>\n",
       "    <tr style=\"text-align: right;\">\n",
       "      <th></th>\n",
       "      <th>PC_0</th>\n",
       "      <th>PC_1</th>\n",
       "      <th>PC_2</th>\n",
       "      <th>PC_3</th>\n",
       "      <th>PC_4</th>\n",
       "      <th>PC_5</th>\n",
       "      <th>PC_6</th>\n",
       "      <th>PC_7</th>\n",
       "      <th>PC_8</th>\n",
       "    </tr>\n",
       "  </thead>\n",
       "  <tbody>\n",
       "    <tr>\n",
       "      <th>0</th>\n",
       "      <td>17.772494</td>\n",
       "      <td>0.200681</td>\n",
       "      <td>1.730609</td>\n",
       "      <td>2.567359</td>\n",
       "      <td>-3.825814</td>\n",
       "      <td>-2.707154</td>\n",
       "      <td>0.681042</td>\n",
       "      <td>2.312613</td>\n",
       "      <td>0.868272</td>\n",
       "    </tr>\n",
       "    <tr>\n",
       "      <th>1</th>\n",
       "      <td>7.145199</td>\n",
       "      <td>-2.847481</td>\n",
       "      <td>2.358636</td>\n",
       "      <td>-0.576654</td>\n",
       "      <td>0.398803</td>\n",
       "      <td>0.134533</td>\n",
       "      <td>0.549769</td>\n",
       "      <td>0.469033</td>\n",
       "      <td>0.033405</td>\n",
       "    </tr>\n",
       "    <tr>\n",
       "      <th>2</th>\n",
       "      <td>11.363270</td>\n",
       "      <td>1.873619</td>\n",
       "      <td>-1.522077</td>\n",
       "      <td>1.076144</td>\n",
       "      <td>-1.711688</td>\n",
       "      <td>-0.883212</td>\n",
       "      <td>1.677582</td>\n",
       "      <td>2.937669</td>\n",
       "      <td>2.097639</td>\n",
       "    </tr>\n",
       "    <tr>\n",
       "      <th>3</th>\n",
       "      <td>-1.834033</td>\n",
       "      <td>-0.277462</td>\n",
       "      <td>0.564905</td>\n",
       "      <td>0.053470</td>\n",
       "      <td>-0.064440</td>\n",
       "      <td>-0.165757</td>\n",
       "      <td>0.030956</td>\n",
       "      <td>0.039519</td>\n",
       "      <td>0.210887</td>\n",
       "    </tr>\n",
       "    <tr>\n",
       "      <th>4</th>\n",
       "      <td>-1.049125</td>\n",
       "      <td>-0.684767</td>\n",
       "      <td>1.072765</td>\n",
       "      <td>0.006371</td>\n",
       "      <td>-0.005695</td>\n",
       "      <td>-0.118686</td>\n",
       "      <td>0.118559</td>\n",
       "      <td>0.559292</td>\n",
       "      <td>0.186379</td>\n",
       "    </tr>\n",
       "  </tbody>\n",
       "</table>\n",
       "</div>"
      ],
      "text/plain": [
       "        PC_0      PC_1      PC_2      PC_3      PC_4      PC_5      PC_6  \\\n",
       "0  17.772494  0.200681  1.730609  2.567359 -3.825814 -2.707154  0.681042   \n",
       "1   7.145199 -2.847481  2.358636 -0.576654  0.398803  0.134533  0.549769   \n",
       "2  11.363270  1.873619 -1.522077  1.076144 -1.711688 -0.883212  1.677582   \n",
       "3  -1.834033 -0.277462  0.564905  0.053470 -0.064440 -0.165757  0.030956   \n",
       "4  -1.049125 -0.684767  1.072765  0.006371 -0.005695 -0.118686  0.118559   \n",
       "\n",
       "       PC_7      PC_8  \n",
       "0  2.312613  0.868272  \n",
       "1  0.469033  0.033405  \n",
       "2  2.937669  2.097639  \n",
       "3  0.039519  0.210887  \n",
       "4  0.559292  0.186379  "
      ]
     },
     "execution_count": 16,
     "metadata": {},
     "output_type": "execute_result"
    }
   ],
   "source": [
    "user_PCA_features_df = do_PCA(user_features_df, 90)\n",
    "user_PCA_features_df.head()"
   ]
  },
  {
   "cell_type": "markdown",
   "id": "aa3b6d97",
   "metadata": {},
   "source": [
    "#### **Performing k-means clustering on the PCA transformed feature vectors**"
   ]
  },
  {
   "cell_type": "code",
   "execution_count": 17,
   "id": "a2767220",
   "metadata": {},
   "outputs": [
    {
     "data": {
      "image/png": "[encoded data removed]",
      "text/plain": [
       "<Figure size 1500x500 with 1 Axes>"
      ]
     },
     "metadata": {},
     "output_type": "display_data"
    }
   ],
   "source": [
    "distorsions = []\n",
    "for k in range(1, 30):\n",
    "    kmeans = KMeans(n_clusters=k)\n",
    "    kmeans.fit(user_PCA_features_df)\n",
    "    distorsions.append(kmeans.inertia_)\n",
    "\n",
    "fig = plt.figure(figsize=(15, 5))\n",
    "plt.plot(range(1, 30), distorsions, label='Distortion')\n",
    "plt.scatter(range(1, 30), distorsions, color='red', s=30, zorder=5, label='Points')\n",
    "plt.grid(True)\n",
    "plt.title('Elbow Curve')\n",
    "plt.xlabel('Number of Clusters')\n",
    "plt.ylabel('Distortion')\n",
    "plt.show()"
   ]
  },
  {
   "cell_type": "code",
   "execution_count": 18,
   "id": "b1fb05bf",
   "metadata": {},
   "outputs": [
    {
     "data": {
      "text/html": [
       "<div>\n",
       "<style scoped>\n",
       "    .dataframe tbody tr th:only-of-type {\n",
       "        vertical-align: middle;\n",
       "    }\n",
       "\n",
       "    .dataframe tbody tr th {\n",
       "        vertical-align: top;\n",
       "    }\n",
       "\n",
       "    .dataframe thead th {\n",
       "        text-align: right;\n",
       "    }\n",
       "</style>\n",
       "<table border=\"1\" class=\"dataframe\">\n",
       "  <thead>\n",
       "    <tr style=\"text-align: right;\">\n",
       "      <th></th>\n",
       "      <th>user</th>\n",
       "      <th>cluster</th>\n",
       "    </tr>\n",
       "  </thead>\n",
       "  <tbody>\n",
       "    <tr>\n",
       "      <th>0</th>\n",
       "      <td>2</td>\n",
       "      <td>15</td>\n",
       "    </tr>\n",
       "    <tr>\n",
       "      <th>1</th>\n",
       "      <td>4</td>\n",
       "      <td>11</td>\n",
       "    </tr>\n",
       "    <tr>\n",
       "      <th>2</th>\n",
       "      <td>5</td>\n",
       "      <td>15</td>\n",
       "    </tr>\n",
       "    <tr>\n",
       "      <th>3</th>\n",
       "      <td>7</td>\n",
       "      <td>10</td>\n",
       "    </tr>\n",
       "    <tr>\n",
       "      <th>4</th>\n",
       "      <td>8</td>\n",
       "      <td>5</td>\n",
       "    </tr>\n",
       "  </tbody>\n",
       "</table>\n",
       "</div>"
      ],
      "text/plain": [
       "  user  cluster\n",
       "0    2       15\n",
       "1    4       11\n",
       "2    5       15\n",
       "3    7       10\n",
       "4    8        5"
      ]
     },
     "execution_count": 18,
     "metadata": {},
     "output_type": "execute_result"
    }
   ],
   "source": [
    "user_cluster_label_df = kMeans_train(user_ids2_idx, user_PCA_features_df, 25)\n",
    "user_cluster_label_df.head()"
   ]
  },
  {
   "cell_type": "code",
   "execution_count": 19,
   "id": "bc3d3e9e",
   "metadata": {},
   "outputs": [
    {
     "data": {
      "text/html": [
       "<div>\n",
       "<style scoped>\n",
       "    .dataframe tbody tr th:only-of-type {\n",
       "        vertical-align: middle;\n",
       "    }\n",
       "\n",
       "    .dataframe tbody tr th {\n",
       "        vertical-align: top;\n",
       "    }\n",
       "\n",
       "    .dataframe thead th {\n",
       "        text-align: right;\n",
       "    }\n",
       "</style>\n",
       "<table border=\"1\" class=\"dataframe\">\n",
       "  <thead>\n",
       "    <tr style=\"text-align: right;\">\n",
       "      <th></th>\n",
       "      <th>item</th>\n",
       "      <th>enrollments</th>\n",
       "    </tr>\n",
       "  </thead>\n",
       "  <tbody>\n",
       "    <tr>\n",
       "      <th>5</th>\n",
       "      <td>DS0105EN</td>\n",
       "      <td>100.000000</td>\n",
       "    </tr>\n",
       "    <tr>\n",
       "      <th>6</th>\n",
       "      <td>DS0101EN</td>\n",
       "      <td>99.346405</td>\n",
       "    </tr>\n",
       "    <tr>\n",
       "      <th>9</th>\n",
       "      <td>BD0115EN</td>\n",
       "      <td>95.424837</td>\n",
       "    </tr>\n",
       "    <tr>\n",
       "      <th>25</th>\n",
       "      <td>ML0151EN</td>\n",
       "      <td>75.163399</td>\n",
       "    </tr>\n",
       "    <tr>\n",
       "      <th>30</th>\n",
       "      <td>DB0151EN</td>\n",
       "      <td>65.359477</td>\n",
       "    </tr>\n",
       "    <tr>\n",
       "      <th>33</th>\n",
       "      <td>ML0101ENv3</td>\n",
       "      <td>64.052288</td>\n",
       "    </tr>\n",
       "    <tr>\n",
       "      <th>41</th>\n",
       "      <td>ML0111EN</td>\n",
       "      <td>50.326797</td>\n",
       "    </tr>\n",
       "    <tr>\n",
       "      <th>49</th>\n",
       "      <td>TA0105EN</td>\n",
       "      <td>33.333333</td>\n",
       "    </tr>\n",
       "    <tr>\n",
       "      <th>52</th>\n",
       "      <td>DW0101EN</td>\n",
       "      <td>30.718954</td>\n",
       "    </tr>\n",
       "    <tr>\n",
       "      <th>58</th>\n",
       "      <td>CC0101EN</td>\n",
       "      <td>25.490196</td>\n",
       "    </tr>\n",
       "  </tbody>\n",
       "</table>\n",
       "</div>"
      ],
      "text/plain": [
       "          item  enrollments\n",
       "5     DS0105EN   100.000000\n",
       "6     DS0101EN    99.346405\n",
       "9     BD0115EN    95.424837\n",
       "25    ML0151EN    75.163399\n",
       "30    DB0151EN    65.359477\n",
       "33  ML0101ENv3    64.052288\n",
       "41    ML0111EN    50.326797\n",
       "49    TA0105EN    33.333333\n",
       "52    DW0101EN    30.718954\n",
       "58    CC0101EN    25.490196"
      ]
     },
     "execution_count": 19,
     "metadata": {},
     "output_type": "execute_result"
    }
   ],
   "source": [
    "kMeans_pred(user_cluster_label_df, 2).head(10)"
   ]
  }
 ],
 "metadata": {
  "kernelspec": {
   "display_name": "Python 3",
   "language": "python",
   "name": "python3"
  },
  "language_info": {
   "codemirror_mode": {
    "name": "ipython",
    "version": 3
   },
   "file_extension": ".py",
   "mimetype": "text/x-python",
   "name": "python",
   "nbconvert_exporter": "python",
   "pygments_lexer": "ipython3",
   "version": "3.12.0"
  }
 },
 "nbformat": 4,
 "nbformat_minor": 5
}
